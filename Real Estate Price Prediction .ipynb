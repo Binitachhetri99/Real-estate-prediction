{
 "cells": [
  {
   "cell_type": "markdown",
   "id": "ae7fe6ed",
   "metadata": {},
   "source": [
    "### Objective of the project\n",
    "* Real estate price prediction provides valuable insights and tools for various stakeholders to make better-informed decisions, manage risks, and optimize their investments in real estate. This project is intended to perform statistical analysis on a dataset and develop a predictive model and build a basic dash web application for predicting real estate prices based on the inputs. \n",
    "\n",
    "### Steps \n",
    "* Gather relevant data from various sources, including real estate databases, government records, online listings, and other public or private sources. \n",
    "* Clean and prepare the collected data by handling missing values, removing outliers, and converting categorical variables into numerical representations.\n",
    "* Create new features or transform existing ones to capture important information that can influence real estate prices. \n",
    "* Explore and visualize the data to gain insights into its distribution, correlations, and patterns.\n",
    "* Choose appropriate machine learninf algorithms or predictive models for the task. \n",
    "* Train the selected model on the training data, optimizing its parameters to make accurate predictions. \n",
    "* create an end-to-end solution for the machine learning model by using the dash framework"
   ]
  },
  {
   "cell_type": "markdown",
   "id": "ace07202",
   "metadata": {},
   "source": [
    "### Brief overview of the columns in the dataset\n",
    "1. Transaction date - The date of the real estate transaction\n",
    "2. House age - Age of the house in years\n",
    "3. Distance to the nearest MRT station - Distance to the nearest Mass Rapid Transit Station in meters\n",
    "4. Number of convenience stores - number of convenience stores in the vicinity\n",
    "5. Latitude - Latitude of the property location\n",
    "6. Longitude - Longitude of the property location\n",
    "7. House price of unit area - House price of unit area"
   ]
  },
  {
   "cell_type": "code",
   "execution_count": 3,
   "id": "cee85136",
   "metadata": {},
   "outputs": [],
   "source": [
    "#necessary imports\n",
    "import pandas as pd\n",
    "import matplotlib.pyplot as plt\n",
    "import seaborn as sns\n"
   ]
  },
  {
   "cell_type": "code",
   "execution_count": 4,
   "id": "dba5cf1e",
   "metadata": {},
   "outputs": [
    {
     "name": "stdout",
     "output_type": "stream",
     "text": [
      "<class 'pandas.core.frame.DataFrame'>\n",
      "RangeIndex: 414 entries, 0 to 413\n",
      "Data columns (total 7 columns):\n",
      " #   Column                               Non-Null Count  Dtype  \n",
      "---  ------                               --------------  -----  \n",
      " 0   Transaction date                     414 non-null    object \n",
      " 1   House age                            414 non-null    float64\n",
      " 2   Distance to the nearest MRT station  414 non-null    float64\n",
      " 3   Number of convenience stores         414 non-null    int64  \n",
      " 4   Latitude                             414 non-null    float64\n",
      " 5   Longitude                            414 non-null    float64\n",
      " 6   House price of unit area             414 non-null    float64\n",
      "dtypes: float64(5), int64(1), object(1)\n",
      "memory usage: 22.8+ KB\n",
      "             Transaction date  House age  Distance to the nearest MRT station  \\\n",
      "0  2012-09-02 16:42:30.519336       13.3                            4082.0150   \n",
      "1  2012-09-04 22:52:29.919544       35.5                             274.0144   \n",
      "2  2012-09-05 01:10:52.349449        1.1                            1978.6710   \n",
      "3  2012-09-05 13:26:01.189083       22.2                            1055.0670   \n",
      "4  2012-09-06 08:29:47.910523        8.5                             967.4000   \n",
      "\n",
      "   Number of convenience stores   Latitude   Longitude  \\\n",
      "0                             8  25.007059  121.561694   \n",
      "1                             2  25.012148  121.546990   \n",
      "2                            10  25.003850  121.528336   \n",
      "3                             5  24.962887  121.482178   \n",
      "4                             6  25.011037  121.479946   \n",
      "\n",
      "   House price of unit area  \n",
      "0                  6.488673  \n",
      "1                 24.970725  \n",
      "2                 26.694267  \n",
      "3                 38.091638  \n",
      "4                 21.654710  \n",
      "None\n"
     ]
    }
   ],
   "source": [
    "# loading the dataset using pandas\n",
    "real_estate_data = pd.read_csv(\"/Users/binitachhetri/Desktop/DataScience/Real_Estate.csv\")\n",
    "\n",
    "# using .head() method to display the first few rows of the dataset \n",
    "real_estate_data_head = real_estate_data.head()\n",
    "\n",
    "# using .info() method on the dataset to understand the composition of the dataset. \n",
    "data_info = real_estate_data.info()\n",
    "\n",
    "print(real_estate_data_head)\n",
    "print(data_info)"
   ]
  },
  {
   "cell_type": "code",
   "execution_count": null,
   "id": "f5488e1b",
   "metadata": {},
   "outputs": [],
   "source": [
    "# checking if the data contains any null values or not, using sum() method to see the total entries \n",
    "#wth null value for each attribute\n",
    "print(real_estate_data.isnull().sum())"
   ]
  },
  {
   "cell_type": "markdown",
   "id": "28c15ec0",
   "metadata": {},
   "source": [
    "######  As we can see that there are no null values we will go ahead and take a took at the descriptive statistics of the dataset"
   ]
  },
  {
   "cell_type": "code",
   "execution_count": null,
   "id": "2e25569b",
   "metadata": {},
   "outputs": [],
   "source": [
    "## Descriptive statistics\n",
    "descriptive_stats = real_estate_data.describe()\n",
    "print(descriptive_stats)"
   ]
  },
  {
   "cell_type": "markdown",
   "id": "7f95652c",
   "metadata": {},
   "source": [
    "#### creating the histogram of the numerical features\n",
    "* KDE is a non parametric way to estimate the probability density function, PDF of a continuous rabdom variable. \n",
    "* It provides a visual representation of the PDF of the data points and is useful for understanding the shape of the distribution. \n"
   ]
  },
  {
   "cell_type": "code",
   "execution_count": null,
   "id": "738d0f31",
   "metadata": {},
   "outputs": [],
   "source": [
    "## setting the aesthetic style of the plots\n",
    "sns.set_style(\"darkgrid\")\n",
    "\n",
    "#creating histograms for the numerical columns\n",
    "fig, axes = plt.subplots(nrows=3, ncols=2, figsize=(12,12))\n",
    "fig.suptitle(\"Histograms of Real Estate Data\", fontsize = 16)\n",
    "\n",
    "cols = ['House age', 'Distance to the nearest MRT station', 'Number of convenience stores', 'Latitude', 'Longitude', 'House price of unit area']\n",
    "\n",
    "#enumerate() function allows us to iterate through the elements of the list while simultaneously keeping track of \n",
    "#the index of each element\n",
    "\n",
    "for i, col in enumerate(cols):\n",
    "    sns.histplot(real_estate_data[col], kde=True, ax=axes[i//2, i%2])\n",
    "    axes[i//2, i%2].set_title(col)\n",
    "    axes[i//2, i%2].set_xlabel('')\n",
    "    axes[i//2, i%2].set_ylabel('')\n",
    "plt.tight_layout(rect=[0, 0.03, 1, 0.95])\n",
    "plt.show()"
   ]
  },
  {
   "cell_type": "markdown",
   "id": "ee561fbb",
   "metadata": {},
   "source": [
    "### Insights gained from histograms above\n",
    "1. House Age - This shows a relatively uniform distribution with a slight increase in the number of newer properties (lower age)\n",
    "2. Distance to the nearest MRT station - Most properties are located close to an MRT station, as indicated by the high frequency of lower distances. There's a long tail extending towards higher distances, suggesting some properties are quite far from MRT station. \n",
    "3. Number of convenience stores - Displays a wide range, with notable peaks at specific counts, like 0, 5, and 10. It suggests certain common configurations in terms of convenience store availability. \n",
    "4. Latitude and Longitude - Both show relatively concentrated distributions, indicating that the properties are located in a geographically limited area.\n",
    "5. House price of Unit area - Displays a right-skewed distribution, with a concentration of properties in teh lower price range and fewer properties as prices increase. "
   ]
  },
  {
   "cell_type": "markdown",
   "id": "b88ebe5a",
   "metadata": {},
   "source": [
    "### Creating Scatter plots to explore the realtionships between these variables and the house price. "
   ]
  },
  {
   "cell_type": "code",
   "execution_count": null,
   "id": "b233411e",
   "metadata": {},
   "outputs": [],
   "source": [
    "fig, axes = plt.subplots(nrows=2, ncols=2, figsize=(12,10))\n",
    "fig.suptitle('Scatter plots with House Price of Unit Area', fontsize=16)\n",
    "\n",
    "#scatter plot for each varaible against the house price\n",
    "sns.scatterplot(data=real_estate_data, x='House age', y = 'House price of unit area', ax=axes[0,0])\n",
    "sns.scatterplot(data=real_estate_data, x= 'Distance to the nearest MRT station', y='House price of unit area', ax=axes[0,1])\n",
    "sns.scatterplot(data=real_estate_data, x='Number of convenience stores', y='House price of unit area', ax=axes[1,0])\n",
    "sns.scatterplot(data=real_estate_data, x='Latitude', y='House price of unit area', ax=axes[1,1])\n",
    "\n",
    "plt.tight_layout(rect=[0, 0.03, 1, 0.95])\n",
    "plt.show()\n"
   ]
  },
  {
   "cell_type": "markdown",
   "id": "63bd3ae5",
   "metadata": {},
   "source": [
    "### Interesting relationships between various factors and house price revealed by the scatterplots above\n",
    "1. House Age vs House price - There does not seem to be a strong linear relationship between house age and price. How ever it appears that very new and very old houses might have higher prices. \n",
    "2. Distance to the nearest MRT station vs House price - There is a clear trend showing that as the distance to the nearest MRT station increases, the house price tends to decrease. It suggests a strong negative realtionshop between these two variables. \n",
    "3. Number of convenience store vs House price - There seems to be a positive relationship between the number of convenience stores and house prices. Houses with more conveneince stores in the vicinity tend to have higher prices. \n",
    "4. Latitude vs House price - There is no strong liner realtionship, however there seems to be a pattern where certain latotudes correspond to higher or lower house prices which could be suggesting that certain neighborhoods are more desirable. "
   ]
  },
  {
   "cell_type": "markdown",
   "id": "f16536fd",
   "metadata": {},
   "source": [
    "### Performing correlation analysis to quantify th realtionships between the variables against the house price"
   ]
  },
  {
   "cell_type": "code",
   "execution_count": null,
   "id": "5f80e75a",
   "metadata": {},
   "outputs": [],
   "source": [
    "# Correlation matrix\n",
    "correlation_matrix = real_estate_data.corr()\n",
    "\n",
    "# Plotting the correlation matrix\n",
    "plt.figure(figsize=(10,6))\n",
    "sns.heatmap(correlation_matrix, annot=True, cmap='coolwarm', fmt=\".2f\", linewidths=.5)\n",
    "plt.title('Correlation Matrix')\n",
    "plt.show()\n",
    "\n",
    "print(correlation_matrix)\n"
   ]
  },
  {
   "cell_type": "markdown",
   "id": "f1b5d047",
   "metadata": {},
   "source": [
    "### Insights gained from correlation matrix\n",
    "1. House age - This shows a very weak negative correlation with house price (-0.012) implying that age is not a strong predictor of price in this dataset\n",
    "2. Distance to Nearest MRT station - Has a strong negative correlation with house price (-0.637). It indicates that properties closer to MRT stations tend to have higher prices which is a significant factor in property evaluation\n",
    "3. Number of convenience stores - Displays a moderate positive correlation with house price (0.281). More convenience stores in the vicinity seem to positively affect property prices. \n",
    "4. Latitude and Longitude - Both show a wak correlation with house prices. Latitude has a slight positive correlation (0.081), while longitude has a slight negative correlation (-0.099). \n",
    "\n",
    " Overall the most significant factors affecting house prices in this dataset appear to be the \"proximity to MRT stations\" and the \"number of convenience stores\" nearby. The geographical location (latitude and longitude) and the age of the house seem to have less impact on the price. "
   ]
  },
  {
   "cell_type": "markdown",
   "id": "622bc53c",
   "metadata": {},
   "source": [
    "#### Building a regression model to predict the real estate price by using the Linear Regression algorithm"
   ]
  },
  {
   "cell_type": "code",
   "execution_count": null,
   "id": "b8e2eae6",
   "metadata": {},
   "outputs": [],
   "source": [
    "from sklearn.model_selection import train_test_split\n",
    "from sklearn.linear_model import LinearRegression\n",
    "from sklearn.metrics import mean_squared_error, r2_score\n",
    "\n",
    "#selecting features and target variable\n",
    "features = ['Distance to the nearest MRT station', 'Number of convenience stores', 'Latitude', 'Longitude']\n",
    "target= 'House price of unit area'\n",
    "\n",
    "X = real_estate_data[features]\n",
    "y = real_estate_data[target]\n",
    "\n",
    "# Splitting the dataset into training and testing sets\n",
    "X_train, X_test, y_train, y_test = train_test_split(X, y, test_size = 0.2, random_state=42)\n",
    "\n",
    "# Model Initialization\n",
    "model = LinearRegression()\n",
    "\n",
    "# Training the model\n",
    "model.fit(X_train, y_train)\n"
   ]
  },
  {
   "cell_type": "code",
   "execution_count": null,
   "id": "6e295d84",
   "metadata": {},
   "outputs": [],
   "source": [
    "# making predictions using the linear regression model\n",
    "y_pred_lr = model.predict(X_test)\n",
    "\n",
    "# Visualization: Actual vs, Predicted values\n",
    "plt.figure(figsize=(10,6))\n",
    "plt.scatter(y_test, y_pred_lr, alpha=0.5)\n",
    "plt.plot([y_test.min(), y_test.max()], [y_test.min(), y_test.max()], 'k--', lw=2)\n",
    "plt.xlabel('Actual')\n",
    "plt.ylabel('Predicted')\n",
    "plt.title('Actual vs. Predicted House prices')\n",
    "plt.show()"
   ]
  },
  {
   "cell_type": "markdown",
   "id": "3da15736",
   "metadata": {},
   "source": [
    "#### Creating end to end solution for our machine leraning model by using the dash framework. "
   ]
  },
  {
   "cell_type": "code",
   "execution_count": 5,
   "id": "261adb7c",
   "metadata": {},
   "outputs": [
    {
     "data": {
      "text/html": [
       "\n",
       "        <iframe\n",
       "            width=\"100%\"\n",
       "            height=\"650\"\n",
       "            src=\"http://127.0.0.1:8050/\"\n",
       "            frameborder=\"0\"\n",
       "            allowfullscreen\n",
       "            \n",
       "        ></iframe>\n",
       "        "
      ],
      "text/plain": [
       "<IPython.lib.display.IFrame at 0x7f992bd25090>"
      ]
     },
     "metadata": {},
     "output_type": "display_data"
    }
   ],
   "source": [
    "import dash\n",
    "from dash import html, dcc, Input, Output, State\n",
    "import pandas as pd\n",
    "\n",
    "# Initialize the dash app\n",
    "app = dash.Dash(__name__)\n",
    "\n",
    "# Define the layout of the app\n",
    "app.layout = html.Div([\n",
    "    html.Div([\n",
    "        html.H1(\"Real Estate Price Prediction\", style={'text-align' : 'center'}),\n",
    "        \n",
    "        html.Div([\n",
    "            dcc.Input(id='distance_to_mrt', type='number', placeholder='Distance to MRT Station (meters)',\n",
    "                      style={'margin': '10px', 'padding': '10px'}),\n",
    "            dcc.Input(id='num_convenience_stores', type='number', placeholder='Number of Convenience Stores',\n",
    "                      style={'margin': '10px', 'padding': '10px'}),\n",
    "            dcc.Input(id='latitude', type='number', placeholder='Latitude',\n",
    "                      style={'margin': '10px', 'padding': '10px'}),\n",
    "            dcc.Input(id='longitude', type='number', placeholder='Longitude',\n",
    "                      style={'margin': '10px', 'padding': '10px'}),\n",
    "            html.Button('Predict Price', id='predict_button', n_clicks=0,\n",
    "                        style={'margin': '10px', 'padding': '10px', 'background-color': '#007BFF', 'color': 'white'}),\n",
    "        ], style={'text-align': 'center'}),\n",
    "        \n",
    "        html.Div(id='prediction_output', style={'text-align': 'center', 'font-size': '20px', 'margin-top': '20px'})\n",
    "    ], style={'width': '50%', 'margin': '0 auto', 'border': '2px solid #007BFF', 'padding': '20px', 'border-radius': '10px'})\n",
    "])\n",
    "\n",
    "# Placeholder model function for demonstration\n",
    "def predict_price(features):\n",
    "    # Replace this with your actual model prediction logic\n",
    "    return features.sum(axis=1)\n",
    "\n",
    "# Define callback to update output\n",
    "@app.callback(\n",
    "    Output('prediction_output', 'children'),\n",
    "    [Input('predict_button', 'n_clicks')],\n",
    "    [State('distance_to_mrt', 'value'), \n",
    "     State('num_convenience_stores', 'value'),\n",
    "     State('latitude', 'value'),\n",
    "     State('longitude', 'value')]\n",
    ")\n",
    "def update_output(n_clicks, distance_to_mrt, num_convenience_stores, latitude, longitude):\n",
    "    if n_clicks > 0 and all(v is not None for v in [distance_to_mrt, num_convenience_stores, latitude, longitude]):\n",
    "        # Prepare the feature vector\n",
    "        features = pd.DataFrame([[distance_to_mrt, num_convenience_stores, latitude, longitude]], \n",
    "                                columns=['distance_to_mrt', 'num_convenience_stores', 'latitude', 'longitude'])\n",
    "        # Predict using the model\n",
    "        prediction = predict_price(features)[0]\n",
    "        return f'Predicted House Price of Unit Area: {prediction:.2f}'\n",
    "    elif n_clicks > 0:\n",
    "        return 'Please enter all values to get a prediction'\n",
    "    return ''\n",
    "\n",
    "# Run the app\n",
    "if __name__ == '__main__':\n",
    "    app.run_server(debug=True)\n"
   ]
  },
  {
   "cell_type": "markdown",
   "id": "ad5c0c80",
   "metadata": {},
   "source": [
    "### Summary \n",
    "Real estate Price Prediction is the process of estimating or forecasting the future prices of real estate properties, such as houses, apartments, or commercial buildings. The goal is to provide accurate property rates to buyers, sellers, investors, and real estate professionals to make informed decisions about real estate transactions. We collected, preprocessed dataset, did statistical analysis, developed model and finally created a basic Dash Web application for predicting real estate prices based on input features distance to the nearest MRT station, number of convenience stores nearby, latitude, and longitude. "
   ]
  },
  {
   "cell_type": "code",
   "execution_count": null,
   "id": "497a0e5f",
   "metadata": {},
   "outputs": [],
   "source": []
  }
 ],
 "metadata": {
  "kernelspec": {
   "display_name": "Python 3 (ipykernel)",
   "language": "python",
   "name": "python3"
  },
  "language_info": {
   "codemirror_mode": {
    "name": "ipython",
    "version": 3
   },
   "file_extension": ".py",
   "mimetype": "text/x-python",
   "name": "python",
   "nbconvert_exporter": "python",
   "pygments_lexer": "ipython3",
   "version": "3.10.9"
  }
 },
 "nbformat": 4,
 "nbformat_minor": 5
}
